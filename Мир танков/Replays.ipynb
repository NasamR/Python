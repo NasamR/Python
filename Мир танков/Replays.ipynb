{
 "cells": [
  {
   "cell_type": "code",
   "execution_count": 1,
   "id": "c02fecd3",
   "metadata": {},
   "outputs": [],
   "source": [
    "import os\n",
    "import time\n",
    "import pandas as pd\n",
    "from selenium import webdriver\n",
    "from selenium.webdriver.common.by import By\n",
    "from selenium.webdriver.firefox.options import Options"
   ]
  },
  {
   "cell_type": "code",
   "execution_count": 5,
   "id": "704fe460",
   "metadata": {},
   "outputs": [
    {
     "name": "stderr",
     "output_type": "stream",
     "text": [
      "C:\\Users\\n.samikaev\\AppData\\Local\\Temp\\ipykernel_5620\\3064965808.py:23: DeprecationWarning: executable_path has been deprecated, please pass in a Service object\n",
      "  driver = webdriver.Chrome('chromedriver.exe')  # driver\n"
     ]
    },
    {
     "ename": "WebDriverException",
     "evalue": "Message: disconnected: unable to connect to renderer\n  (failed to check if window was closed: disconnected: unable to connect to renderer)\n  (Session info: chrome=109.0.5414.74)\nStacktrace:\nBacktrace:\n\t(No symbol) [0x00F56643]\n\t(No symbol) [0x00EEBE21]\n\t(No symbol) [0x00DEDA9D]\n\t(No symbol) [0x00DDCCD8]\n\t(No symbol) [0x00DCD2B4]\n\t(No symbol) [0x00DCE3DE]\n\t(No symbol) [0x00E494D5]\n\t(No symbol) [0x00E3FD43]\n\t(No symbol) [0x00E149C1]\n\t(No symbol) [0x00E15E5D]\n\tGetHandleVerifier [0x011CA142+2497106]\n\tGetHandleVerifier [0x011F85D3+2686691]\n\tGetHandleVerifier [0x011FBB9C+2700460]\n\tGetHandleVerifier [0x01003B10+635936]\n\t(No symbol) [0x00EF4A1F]\n\t(No symbol) [0x00EFA418]\n\t(No symbol) [0x00EFA505]\n\t(No symbol) [0x00F0508B]\n\tBaseThreadInitThunk [0x759EFA29+25]\n\tRtlGetAppContainerNamedObjectPath [0x773C7A9E+286]\n\tRtlGetAppContainerNamedObjectPath [0x773C7A6E+238]\n",
     "output_type": "error",
     "traceback": [
      "\u001b[1;31m---------------------------------------------------------------------------\u001b[0m",
      "\u001b[1;31mWebDriverException\u001b[0m                        Traceback (most recent call last)",
      "Input \u001b[1;32mIn [5]\u001b[0m, in \u001b[0;36m<cell line: 51>\u001b[1;34m()\u001b[0m\n\u001b[0;32m     48\u001b[0m     progress \u001b[38;5;241m+\u001b[39m\u001b[38;5;241m=\u001b[39m \u001b[38;5;241m1\u001b[39m\n\u001b[0;32m     50\u001b[0m \u001b[38;5;66;03m# STOP\u001b[39;00m\n\u001b[1;32m---> 51\u001b[0m \u001b[43mdriver\u001b[49m\u001b[38;5;241;43m.\u001b[39;49m\u001b[43mclose\u001b[49m\u001b[43m(\u001b[49m\u001b[43m)\u001b[49m\n\u001b[0;32m     52\u001b[0m \u001b[38;5;28mprint\u001b[39m(\u001b[38;5;124mf\u001b[39m\u001b[38;5;124m'\u001b[39m\u001b[38;5;132;01m{\u001b[39;00m(time\u001b[38;5;241m.\u001b[39mtime() \u001b[38;5;241m-\u001b[39m start_time) \u001b[38;5;241m/\u001b[39m\u001b[38;5;241m/\u001b[39m \u001b[38;5;241m60\u001b[39m\u001b[38;5;132;01m}\u001b[39;00m\u001b[38;5;124m minutes \u001b[39m\u001b[38;5;132;01m{\u001b[39;00m(time\u001b[38;5;241m.\u001b[39mtime() \u001b[38;5;241m-\u001b[39m start_time) \u001b[38;5;241m%\u001b[39m \u001b[38;5;241m60\u001b[39m\u001b[38;5;132;01m}\u001b[39;00m\u001b[38;5;124m seconds\u001b[39m\u001b[38;5;124m'\u001b[39m)\n",
      "File \u001b[1;32m~\\AppData\\Local\\Programs\\Python\\Python310\\lib\\site-packages\\selenium\\webdriver\\remote\\webdriver.py:551\u001b[0m, in \u001b[0;36mWebDriver.close\u001b[1;34m(self)\u001b[0m\n\u001b[0;32m    542\u001b[0m \u001b[38;5;28;01mdef\u001b[39;00m \u001b[38;5;21mclose\u001b[39m(\u001b[38;5;28mself\u001b[39m) \u001b[38;5;241m-\u001b[39m\u001b[38;5;241m>\u001b[39m \u001b[38;5;28;01mNone\u001b[39;00m:\n\u001b[0;32m    543\u001b[0m     \u001b[38;5;124;03m\"\"\"\u001b[39;00m\n\u001b[0;32m    544\u001b[0m \u001b[38;5;124;03m    Closes the current window.\u001b[39;00m\n\u001b[0;32m    545\u001b[0m \n\u001b[1;32m   (...)\u001b[0m\n\u001b[0;32m    549\u001b[0m \u001b[38;5;124;03m            driver.close()\u001b[39;00m\n\u001b[0;32m    550\u001b[0m \u001b[38;5;124;03m    \"\"\"\u001b[39;00m\n\u001b[1;32m--> 551\u001b[0m     \u001b[38;5;28;43mself\u001b[39;49m\u001b[38;5;241;43m.\u001b[39;49m\u001b[43mexecute\u001b[49m\u001b[43m(\u001b[49m\u001b[43mCommand\u001b[49m\u001b[38;5;241;43m.\u001b[39;49m\u001b[43mCLOSE\u001b[49m\u001b[43m)\u001b[49m\n",
      "File \u001b[1;32m~\\AppData\\Local\\Programs\\Python\\Python310\\lib\\site-packages\\selenium\\webdriver\\remote\\webdriver.py:429\u001b[0m, in \u001b[0;36mWebDriver.execute\u001b[1;34m(self, driver_command, params)\u001b[0m\n\u001b[0;32m    427\u001b[0m response \u001b[38;5;241m=\u001b[39m \u001b[38;5;28mself\u001b[39m\u001b[38;5;241m.\u001b[39mcommand_executor\u001b[38;5;241m.\u001b[39mexecute(driver_command, params)\n\u001b[0;32m    428\u001b[0m \u001b[38;5;28;01mif\u001b[39;00m response:\n\u001b[1;32m--> 429\u001b[0m     \u001b[38;5;28;43mself\u001b[39;49m\u001b[38;5;241;43m.\u001b[39;49m\u001b[43merror_handler\u001b[49m\u001b[38;5;241;43m.\u001b[39;49m\u001b[43mcheck_response\u001b[49m\u001b[43m(\u001b[49m\u001b[43mresponse\u001b[49m\u001b[43m)\u001b[49m\n\u001b[0;32m    430\u001b[0m     response[\u001b[38;5;124m'\u001b[39m\u001b[38;5;124mvalue\u001b[39m\u001b[38;5;124m'\u001b[39m] \u001b[38;5;241m=\u001b[39m \u001b[38;5;28mself\u001b[39m\u001b[38;5;241m.\u001b[39m_unwrap_value(\n\u001b[0;32m    431\u001b[0m         response\u001b[38;5;241m.\u001b[39mget(\u001b[38;5;124m'\u001b[39m\u001b[38;5;124mvalue\u001b[39m\u001b[38;5;124m'\u001b[39m, \u001b[38;5;28;01mNone\u001b[39;00m))\n\u001b[0;32m    432\u001b[0m     \u001b[38;5;28;01mreturn\u001b[39;00m response\n",
      "File \u001b[1;32m~\\AppData\\Local\\Programs\\Python\\Python310\\lib\\site-packages\\selenium\\webdriver\\remote\\errorhandler.py:243\u001b[0m, in \u001b[0;36mErrorHandler.check_response\u001b[1;34m(self, response)\u001b[0m\n\u001b[0;32m    241\u001b[0m         alert_text \u001b[38;5;241m=\u001b[39m value[\u001b[38;5;124m'\u001b[39m\u001b[38;5;124malert\u001b[39m\u001b[38;5;124m'\u001b[39m]\u001b[38;5;241m.\u001b[39mget(\u001b[38;5;124m'\u001b[39m\u001b[38;5;124mtext\u001b[39m\u001b[38;5;124m'\u001b[39m)\n\u001b[0;32m    242\u001b[0m     \u001b[38;5;28;01mraise\u001b[39;00m exception_class(message, screen, stacktrace, alert_text)  \u001b[38;5;66;03m# type: ignore[call-arg]  # mypy is not smart enough here\u001b[39;00m\n\u001b[1;32m--> 243\u001b[0m \u001b[38;5;28;01mraise\u001b[39;00m exception_class(message, screen, stacktrace)\n",
      "\u001b[1;31mWebDriverException\u001b[0m: Message: disconnected: unable to connect to renderer\n  (failed to check if window was closed: disconnected: unable to connect to renderer)\n  (Session info: chrome=109.0.5414.74)\nStacktrace:\nBacktrace:\n\t(No symbol) [0x00F56643]\n\t(No symbol) [0x00EEBE21]\n\t(No symbol) [0x00DEDA9D]\n\t(No symbol) [0x00DDCCD8]\n\t(No symbol) [0x00DCD2B4]\n\t(No symbol) [0x00DCE3DE]\n\t(No symbol) [0x00E494D5]\n\t(No symbol) [0x00E3FD43]\n\t(No symbol) [0x00E149C1]\n\t(No symbol) [0x00E15E5D]\n\tGetHandleVerifier [0x011CA142+2497106]\n\tGetHandleVerifier [0x011F85D3+2686691]\n\tGetHandleVerifier [0x011FBB9C+2700460]\n\tGetHandleVerifier [0x01003B10+635936]\n\t(No symbol) [0x00EF4A1F]\n\t(No symbol) [0x00EFA418]\n\t(No symbol) [0x00EFA505]\n\t(No symbol) [0x00F0508B]\n\tBaseThreadInitThunk [0x759EFA29+25]\n\tRtlGetAppContainerNamedObjectPath [0x773C7A9E+286]\n\tRtlGetAppContainerNamedObjectPath [0x773C7A6E+238]\n"
     ]
    }
   ],
   "source": [
    "start_time = time.time()\n",
    "# FILE OPENING\n",
    "if not os.path.exists('wotreplays.csv'):  # if file doesn`t exist\n",
    "    pd.DataFrame(columns=['replay_№',     # headers\n",
    "                          'target',\n",
    "                          'ally1', 'ally2', 'ally3', 'ally4', 'ally5',\n",
    "                          'ally6', 'ally7', 'ally8', 'ally9', 'ally10',\n",
    "                          'ally11', 'ally12', 'ally13', 'ally14', 'ally15', \n",
    "                          'enemy1', 'enemy2', 'enemy3', 'enemy4', 'enemy5',\n",
    "                          'enemy6', 'enemy7', 'enemy8', 'enemy9', 'enemy10',\n",
    "                          'enemy11', 'enemy12', 'enemy13', 'enemy14', 'enemy15']).to_csv('wotreplays.csv', \n",
    "                                                                                         index=False)\n",
    "    last_replay = 14032334  # http://tankireplays.lesta.ru/site/{last_replay}\n",
    "    \n",
    "else:  # if file already exists\n",
    "    df = pd.read_csv('wotreplays.csv')  # file\n",
    "    last_replay = df['replay_№'].iloc[-1]  # last replay num\n",
    "    \n",
    "    \n",
    "# START\n",
    "options = Options()\n",
    "options.headless = True\n",
    "driver = webdriver.Chrome('chromedriver.exe')  # driver\n",
    "\n",
    "limit = 1000  # total replays\n",
    "progress = 0  # \n",
    "\n",
    "while limit - progress:\n",
    "    try:  # if page exists\n",
    "        driver.get(f'http://wotreplays.ru/site/{last_replay - progress}')  # web page\n",
    "        target = driver.find_element(By.CLASS_NAME, 'replay-stats__title').text  # 'Победа', 'Ничья', 'Поражение'\n",
    "        driver.find_element(By.ID, 'teams').click()  # click to teams table page\n",
    "        teams_tanks = [last_replay - progress, target]  # list of tanks\n",
    "        for team in driver.find_elements(By.CLASS_NAME, 'team-table__body'):  # extract team`s tanks\n",
    "            teams_tanks.extend([x.text for x in team.find_elements(By.CLASS_NAME, 'team-table__tank')])\n",
    "            \n",
    "    except:  # if page error\n",
    "        progress += 1\n",
    "        continue\n",
    "        \n",
    "    if len(teams_tanks) == 32:  # drop non-classic battles\n",
    "        data = pd.DataFrame(data=[teams_tanks])  # list to df\n",
    "        data.to_csv('wotreplays.csv',            # saving to file\n",
    "                    mode='a', \n",
    "                    index=False, \n",
    "                    header=False)\n",
    "        \n",
    "    progress += 1\n",
    "    \n",
    "# STOP\n",
    "driver.close()\n",
    "print(f'{(time.time() - start_time) // 60} minutes {(time.time() - start_time) % 60} seconds')"
   ]
  },
  {
   "cell_type": "code",
   "execution_count": null,
   "id": "60edd4d8",
   "metadata": {},
   "outputs": [],
   "source": []
  }
 ],
 "metadata": {
  "kernelspec": {
   "display_name": "Python 3 (ipykernel)",
   "language": "python",
   "name": "python3"
  },
  "language_info": {
   "codemirror_mode": {
    "name": "ipython",
    "version": 3
   },
   "file_extension": ".py",
   "mimetype": "text/x-python",
   "name": "python",
   "nbconvert_exporter": "python",
   "pygments_lexer": "ipython3",
   "version": "3.10.5"
  },
  "toc": {
   "base_numbering": 1,
   "nav_menu": {},
   "number_sections": true,
   "sideBar": true,
   "skip_h1_title": false,
   "title_cell": "Table of Contents",
   "title_sidebar": "Contents",
   "toc_cell": false,
   "toc_position": {},
   "toc_section_display": true,
   "toc_window_display": false
  }
 },
 "nbformat": 4,
 "nbformat_minor": 5
}
